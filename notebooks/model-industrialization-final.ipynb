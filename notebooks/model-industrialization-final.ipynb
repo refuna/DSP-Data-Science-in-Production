{
 "cells": [
  {
   "cell_type": "markdown",
   "metadata": {},
   "source": [
    "## Model building"
   ]
  },
  {
   "cell_type": "code",
   "execution_count": 1,
   "metadata": {},
   "outputs": [
    {
     "name": "stdout",
     "output_type": "stream",
     "text": [
      "d:\\study\\DSP\\DSP-Tingfen-YU\\notebooks\n"
     ]
    },
    {
     "name": "stderr",
     "output_type": "stream",
     "text": [
      "d:\\study\\DSP\\DSP-Tingfen-YU\\notebooks\\..\\houseprices\\preprocess.py:16: SettingWithCopyWarning: \n",
      "A value is trying to be set on a copy of a slice from a DataFrame\n",
      "\n",
      "See the caveats in the documentation: https://pandas.pydata.org/pandas-docs/stable/user_guide/indexing.html#returning-a-view-versus-a-copy\n",
      "  df[col].fillna(\"None\", inplace=True)\n"
     ]
    },
    {
     "name": "stdout",
     "output_type": "stream",
     "text": [
      "{'rmse': 0.06}\n"
     ]
    }
   ],
   "source": [
    "import pandas as pd\n",
    "import sys\n",
    "import os\n",
    "from pathlib import Path\n",
    "\n",
    "# root_path = Path.cwd().parent\n",
    "# lib_path = root_path / 'house_prices'\n",
    "# model_path = root_path / 'models' / 'LGBM_model.joblib'\n",
    "# csv_path = root_path / 'data/train.csv'\n",
    "sys.path.append('../')\n",
    "root_path = Path.cwd()\n",
    "print(root_path)\n",
    "from houseprices import preprocess, make_predictions, build_model\n",
    "\n",
    "\n",
    "# project_dir = Path.cwd()\n",
    "training_data_df = pd.read_csv('../data/train.csv')\n",
    "columns = [\"SalePrice\", \"OverallQual\", \"GrLivArea\", \"GarageArea\", \"TotalBsmtSF\", \"Street\", \"LotShape\"]\n",
    "model_performance_dict = build_model(training_data_df[columns])\n",
    "print(model_performance_dict)"
   ]
  },
  {
   "cell_type": "markdown",
   "metadata": {},
   "source": [
    "## Model inference"
   ]
  },
  {
   "cell_type": "code",
   "execution_count": 8,
   "metadata": {},
   "outputs": [
    {
     "name": "stderr",
     "output_type": "stream",
     "text": [
      "d:\\study\\DSP\\DSP-Tingfen-YU\\notebooks\\..\\houseprices\\preprocess.py:119: SettingWithCopyWarning: \n",
      "A value is trying to be set on a copy of a slice from a DataFrame.\n",
      "Try using .loc[row_indexer,col_indexer] = value instead\n",
      "\n",
      "See the caveats in the documentation: https://pandas.pydata.org/pandas-docs/stable/user_guide/indexing.html#returning-a-view-versus-a-copy\n",
      "  df[continuous_columns] = df_scaled\n"
     ]
    }
   ],
   "source": [
    "\n",
    "user_data_df = pd.read_csv('../data/test.csv')\n",
    "columns = [\"SalePrice\", \"OverallQual\", \"GrLivArea\", \"GarageArea\", \"TotalBsmtSF\", \"Street\", \"LotShape\"]\n",
    "feature_columns = columns[1:]\n",
    "predictions = make_predictions(user_data_df[feature_columns])\n",
    "# predictions"
   ]
  },
  {
   "cell_type": "markdown",
   "metadata": {},
   "source": []
  },
  {
   "cell_type": "code",
   "execution_count": 9,
   "metadata": {},
   "outputs": [
    {
     "data": {
      "text/plain": [
       "array([65057.79247801, 65620.97221072, 65620.97221072, ...,\n",
       "       65620.97221072, 63166.60322532, 65620.97221072])"
      ]
     },
     "execution_count": 9,
     "metadata": {},
     "output_type": "execute_result"
    }
   ],
   "source": [
    "predictions"
   ]
  },
  {
   "cell_type": "code",
   "execution_count": null,
   "metadata": {},
   "outputs": [],
   "source": []
  }
 ],
 "metadata": {
  "kernelspec": {
   "display_name": "Python 3.10.7 64-bit",
   "language": "python",
   "name": "python3"
  },
  "language_info": {
   "codemirror_mode": {
    "name": "ipython",
    "version": 3
   },
   "file_extension": ".py",
   "mimetype": "text/x-python",
   "name": "python",
   "nbconvert_exporter": "python",
   "pygments_lexer": "ipython3",
   "version": "3.10.7 (tags/v3.10.7:6cc6b13, Sep  5 2022, 14:08:36) [MSC v.1933 64 bit (AMD64)]"
  },
  "orig_nbformat": 4,
  "vscode": {
   "interpreter": {
    "hash": "369f2c481f4da34e4445cda3fffd2e751bd1c4d706f27375911949ba6bb62e1c"
   }
  }
 },
 "nbformat": 4,
 "nbformat_minor": 2
}
